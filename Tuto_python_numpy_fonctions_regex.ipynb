{
  "cells": [
    {
      "cell_type": "markdown",
      "metadata": {
        "id": "view-in-github",
        "colab_type": "text"
      },
      "source": [
        "<a href=\"https://colab.research.google.com/github/RMoulla/pyk/blob/main/Tuto_python_numpy_fonctions_regex.ipynb\" target=\"_parent\"><img src=\"https://colab.research.google.com/assets/colab-badge.svg\" alt=\"Open In Colab\"/></a>"
      ]
    },
    {
      "cell_type": "markdown",
      "id": "746dd0e7",
      "metadata": {
        "id": "746dd0e7"
      },
      "source": [
        "# Tuto NumPy"
      ]
    },
    {
      "cell_type": "code",
      "execution_count": null,
      "id": "1ac7312a",
      "metadata": {
        "id": "1ac7312a"
      },
      "outputs": [],
      "source": [
        "import numpy as np"
      ]
    },
    {
      "cell_type": "code",
      "execution_count": null,
      "id": "0cdc697d",
      "metadata": {
        "colab": {
          "base_uri": "https://localhost:8080/"
        },
        "id": "0cdc697d",
        "outputId": "1cb4000f-b427-4db3-ca6f-90b705ecc08c"
      },
      "outputs": [
        {
          "output_type": "stream",
          "name": "stdout",
          "text": [
            "[1 2 3]\n",
            "[[1 2]\n",
            " [3 4]]\n"
          ]
        }
      ],
      "source": [
        "a = np.array([1, 2, 3])\n",
        "b = np.array([[1, 2], [3, 4]])\n",
        "print(a)\n",
        "print(b)"
      ]
    },
    {
      "cell_type": "code",
      "execution_count": null,
      "id": "2e02d4b5",
      "metadata": {
        "colab": {
          "base_uri": "https://localhost:8080/"
        },
        "id": "2e02d4b5",
        "outputId": "bbc91fdd-a98a-41ca-b2b3-ad4c8b8ba317"
      },
      "outputs": [
        {
          "output_type": "stream",
          "name": "stdout",
          "text": [
            "[[0. 0. 0.]\n",
            " [0. 0. 0.]]\n"
          ]
        }
      ],
      "source": [
        "print(np.zeros((2, 3)))"
      ]
    },
    {
      "cell_type": "code",
      "source": [
        "print(np.ones((2, 3)))"
      ],
      "metadata": {
        "colab": {
          "base_uri": "https://localhost:8080/"
        },
        "id": "TkHA9fjsIRU2",
        "outputId": "54c29166-29c4-4b72-cee8-4f677385c14e"
      },
      "id": "TkHA9fjsIRU2",
      "execution_count": null,
      "outputs": [
        {
          "output_type": "stream",
          "name": "stdout",
          "text": [
            "[[1. 1. 1.]\n",
            " [1. 1. 1.]]\n"
          ]
        }
      ]
    },
    {
      "cell_type": "code",
      "source": [
        "print(np.eye(3))"
      ],
      "metadata": {
        "colab": {
          "base_uri": "https://localhost:8080/"
        },
        "id": "Mc1_KvmSIUUn",
        "outputId": "f07d033e-3184-4717-d255-d110d3e70aff"
      },
      "id": "Mc1_KvmSIUUn",
      "execution_count": null,
      "outputs": [
        {
          "output_type": "stream",
          "name": "stdout",
          "text": [
            "[[1. 0. 0.]\n",
            " [0. 1. 0.]\n",
            " [0. 0. 1.]]\n"
          ]
        }
      ]
    },
    {
      "cell_type": "code",
      "execution_count": null,
      "id": "351e8bad",
      "metadata": {
        "colab": {
          "base_uri": "https://localhost:8080/"
        },
        "id": "351e8bad",
        "outputId": "f023b076-2c57-4f52-853b-16c4d15fb7b1"
      },
      "outputs": [
        {
          "output_type": "stream",
          "name": "stdout",
          "text": [
            "[11 22 33]\n",
            "[2 4 6]\n",
            "[10. 10. 10.]\n",
            "[1 4 9]\n"
          ]
        }
      ],
      "source": [
        "a = np.array([1, 2, 3])\n",
        "b = np.array([10, 20, 30])\n",
        "print(a + b)\n",
        "print(a * 2)\n",
        "print(b / a)\n",
        "print(a ** 2)"
      ]
    },
    {
      "cell_type": "code",
      "execution_count": null,
      "id": "1d09657a",
      "metadata": {
        "colab": {
          "base_uri": "https://localhost:8080/"
        },
        "id": "1d09657a",
        "outputId": "e0617013-9741-4969-be6f-6269730794d4"
      },
      "outputs": [
        {
          "output_type": "stream",
          "name": "stdout",
          "text": [
            "10\n",
            "[20 30 40]\n"
          ]
        }
      ],
      "source": [
        "a = np.array([10, 20, 30, 40, 50])\n",
        "print(a[0])\n",
        "print(a[1:4])"
      ]
    },
    {
      "cell_type": "code",
      "execution_count": null,
      "id": "ca755544",
      "metadata": {
        "colab": {
          "base_uri": "https://localhost:8080/"
        },
        "id": "ca755544",
        "outputId": "dce09629-2434-4015-de76-4ddde989a450"
      },
      "outputs": [
        {
          "output_type": "stream",
          "name": "stdout",
          "text": [
            "10\n",
            "2.5\n",
            "1.118033988749895\n",
            "1 4\n"
          ]
        }
      ],
      "source": [
        "a = np.array([1, 2, 3, 4])\n",
        "print(np.sum(a))\n",
        "print(np.mean(a))\n",
        "print(np.std(a))\n",
        "print(np.min(a), np.max(a))"
      ]
    },
    {
      "cell_type": "code",
      "execution_count": null,
      "id": "3847b1ea",
      "metadata": {
        "colab": {
          "base_uri": "https://localhost:8080/"
        },
        "id": "3847b1ea",
        "outputId": "f23b924f-3fd9-48fe-d1ba-6c02edb13852"
      },
      "outputs": [
        {
          "output_type": "stream",
          "name": "stdout",
          "text": [
            "(2, 2)\n",
            "2\n",
            "[[1]\n",
            " [2]\n",
            " [3]\n",
            " [4]]\n",
            "[1 2 3 4]\n"
          ]
        }
      ],
      "source": [
        "a = np.array([[1, 2], [3, 4]])\n",
        "print(a.shape)\n",
        "print(a.ndim)\n",
        "print(a.reshape(4, 1))\n",
        "print(a.flatten())"
      ]
    },
    {
      "cell_type": "code",
      "execution_count": null,
      "id": "17f6c55a",
      "metadata": {
        "colab": {
          "base_uri": "https://localhost:8080/"
        },
        "id": "17f6c55a",
        "outputId": "dd6e0ad0-89d7-477d-e6f5-5507d9ec2139"
      },
      "outputs": [
        {
          "output_type": "stream",
          "name": "stdout",
          "text": [
            "[[11 22]\n",
            " [13 24]]\n"
          ]
        }
      ],
      "source": [
        "a = np.array([[1, 2], [3, 4]])\n",
        "b = np.array([10, 20])\n",
        "print(a + b)"
      ]
    },
    {
      "cell_type": "code",
      "execution_count": null,
      "id": "39e9d866",
      "metadata": {
        "colab": {
          "base_uri": "https://localhost:8080/"
        },
        "id": "39e9d866",
        "outputId": "859a2175-66e9-4090-98f9-497a01764790"
      },
      "outputs": [
        {
          "output_type": "stream",
          "name": "stdout",
          "text": [
            "[4 5]\n"
          ]
        }
      ],
      "source": [
        "a = np.array([1, 2, 3, 4, 5])\n",
        "print(a[a > 3])\n"
      ]
    },
    {
      "cell_type": "markdown",
      "id": "444e31b6",
      "metadata": {
        "id": "444e31b6"
      },
      "source": [
        "# Tuto Fonctions Python"
      ]
    },
    {
      "cell_type": "code",
      "execution_count": null,
      "id": "c3a01836",
      "metadata": {
        "colab": {
          "base_uri": "https://localhost:8080/"
        },
        "id": "c3a01836",
        "outputId": "80c53ea4-41e8-404b-b47d-c4411e46f8aa"
      },
      "outputs": [
        {
          "output_type": "stream",
          "name": "stdout",
          "text": [
            "Bonjour !\n"
          ]
        }
      ],
      "source": [
        "def saluer():\n",
        "    print(\"Bonjour !\")\n",
        "saluer()"
      ]
    },
    {
      "cell_type": "code",
      "execution_count": null,
      "id": "9dac9ca4",
      "metadata": {
        "colab": {
          "base_uri": "https://localhost:8080/"
        },
        "id": "9dac9ca4",
        "outputId": "6c753b58-6d23-481b-ef5b-3bd158b5bfdb"
      },
      "outputs": [
        {
          "output_type": "stream",
          "name": "stdout",
          "text": [
            "Bonjour Tom !\n"
          ]
        }
      ],
      "source": [
        "def saluer_nom(nom):\n",
        "    print(f\"Bonjour {nom} !\")\n",
        "saluer_nom(\"Tom\")"
      ]
    },
    {
      "cell_type": "code",
      "execution_count": null,
      "id": "99f8fe1d",
      "metadata": {
        "colab": {
          "base_uri": "https://localhost:8080/"
        },
        "id": "99f8fe1d",
        "outputId": "e9a0f798-9509-4f0c-9d2a-244c57a51934"
      },
      "outputs": [
        {
          "output_type": "execute_result",
          "data": {
            "text/plain": [
              "4"
            ]
          },
          "metadata": {},
          "execution_count": 42
        }
      ],
      "source": [
        "def carre(x):\n",
        "    return x * x\n",
        "carre(2)"
      ]
    },
    {
      "cell_type": "code",
      "execution_count": null,
      "id": "1edea32b",
      "metadata": {
        "id": "1edea32b"
      },
      "outputs": [],
      "source": [
        "def saluer(nom=\"inconnu\"):\n",
        "    print(f\"Salut {nom} !\")\n",
        "\n",
        "saluer()"
      ]
    },
    {
      "cell_type": "code",
      "execution_count": null,
      "id": "da5e4752",
      "metadata": {
        "colab": {
          "base_uri": "https://localhost:8080/"
        },
        "id": "da5e4752",
        "outputId": "b43a4b53-8988-4267-d441-1811ffb4a967"
      },
      "outputs": [
        {
          "output_type": "stream",
          "name": "stdout",
          "text": [
            "10\n"
          ]
        }
      ],
      "source": [
        "def addition(a, b):\n",
        "    return a + b\n",
        "print(addition(3, 7))"
      ]
    },
    {
      "cell_type": "code",
      "execution_count": null,
      "id": "b5a40dc2",
      "metadata": {
        "colab": {
          "base_uri": "https://localhost:8080/"
        },
        "id": "b5a40dc2",
        "outputId": "56033c9f-50a4-4d09-f3c9-b39f9a85540d"
      },
      "outputs": [
        {
          "output_type": "stream",
          "name": "stdout",
          "text": [
            "Sarah a 30 ans.\n"
          ]
        }
      ],
      "source": [
        "def presentation(nom, age):\n",
        "    print(f\"{nom} a {age} ans.\")\n",
        "presentation(age=30, nom=\"Sarah\")"
      ]
    },
    {
      "cell_type": "markdown",
      "id": "caa1078b",
      "metadata": {
        "id": "caa1078b"
      },
      "source": [
        "# Tuto Traitement de texte avec RegEx"
      ]
    },
    {
      "cell_type": "code",
      "execution_count": null,
      "id": "2578e164",
      "metadata": {
        "id": "2578e164"
      },
      "outputs": [],
      "source": [
        "import re"
      ]
    },
    {
      "cell_type": "code",
      "source": [
        "text = \"\"\"\n",
        "Alice et Bob sont amis.\n",
        "\"\"\"\n",
        "\n",
        "match = re.search(r\"Alice\", text)\n",
        "\n",
        "print(match.group())"
      ],
      "metadata": {
        "colab": {
          "base_uri": "https://localhost:8080/"
        },
        "id": "eCu4omf1K1AS",
        "outputId": "ede5d4ea-e8d7-4583-9619-df0eb016e46e"
      },
      "id": "eCu4omf1K1AS",
      "execution_count": null,
      "outputs": [
        {
          "output_type": "stream",
          "name": "stdout",
          "text": [
            "Alice\n"
          ]
        }
      ]
    },
    {
      "cell_type": "code",
      "execution_count": null,
      "id": "c6174ec9",
      "metadata": {
        "colab": {
          "base_uri": "https://localhost:8080/"
        },
        "id": "c6174ec9",
        "outputId": "808573e7-9730-4b30-e81d-e3880cdfc89f"
      },
      "outputs": [
        {
          "output_type": "stream",
          "name": "stdout",
          "text": [
            "exemple@test.com\n"
          ]
        }
      ],
      "source": [
        "texte = \"Voici mon email : exemple@test.com et mon site : www.test.fr\"\n",
        "email = re.search(r'\\S+@\\S+\\.\\S+', texte)\n",
        "print(email.group())"
      ]
    },
    {
      "cell_type": "code",
      "execution_count": null,
      "id": "61ee6c94",
      "metadata": {
        "colab": {
          "base_uri": "https://localhost:8080/"
        },
        "id": "61ee6c94",
        "outputId": "0925ae1d-7b68-4d91-992f-323a47b48e7f"
      },
      "outputs": [
        {
          "output_type": "stream",
          "name": "stdout",
          "text": [
            "['TOUS', 'MEMBRES', 'L', 'ASSEMBLÉE']\n"
          ]
        }
      ],
      "source": [
        "texte = \"Bonjour à TOUS les MEMBRES de L'ASSEMBLÉE\"\n",
        "majuscules = re.findall(r'\\b[A-ZÉÈÊÀ]+\\b', texte)\n",
        "print(majuscules)"
      ]
    },
    {
      "cell_type": "code",
      "execution_count": null,
      "id": "73f2e5c9",
      "metadata": {
        "colab": {
          "base_uri": "https://localhost:8080/"
        },
        "id": "73f2e5c9",
        "outputId": "2852bd5b-7b4f-4644-de48-13e7416a0247"
      },
      "outputs": [
        {
          "output_type": "stream",
          "name": "stdout",
          "text": [
            "['3', '25', '178']\n"
          ]
        }
      ],
      "source": [
        "texte = \"Il y a 3 pommes, 25 bananes et 178 fraises.\"\n",
        "nombres = re.findall(r'\\d+', texte)\n",
        "print(nombres)"
      ]
    },
    {
      "cell_type": "code",
      "execution_count": null,
      "id": "6577ccdc",
      "metadata": {
        "colab": {
          "base_uri": "https://localhost:8080/"
        },
        "id": "6577ccdc",
        "outputId": "21a7ff39-3a37-4785-edf0-3a808419d0ea"
      },
      "outputs": [
        {
          "output_type": "stream",
          "name": "stdout",
          "text": [
            "['Jean-Paul', 'Luc', 'Marie', 'Sophie']\n"
          ]
        }
      ],
      "source": [
        "texte = \"Jean-Paul;Luc,Marie|Sophie\"\n",
        "prenoms = re.split(r'[;,\\|]', texte)\n",
        "print(prenoms)"
      ]
    },
    {
      "cell_type": "code",
      "source": [
        "# Ordonner une liste de chaines de caractère par ordre alphabétique\n",
        "\n",
        "liste_chaines = [\"cerise\", \"banane\", \"pomme\", \"datte\"]\n",
        "liste_ordonnee = sorted(liste_chaines)\n",
        "liste_ordonnee\n"
      ],
      "metadata": {
        "colab": {
          "base_uri": "https://localhost:8080/"
        },
        "id": "UIFFxz52Mvz_",
        "outputId": "5c77522a-c23b-4caf-f7b4-2cb4326074dc"
      },
      "id": "UIFFxz52Mvz_",
      "execution_count": null,
      "outputs": [
        {
          "output_type": "execute_result",
          "data": {
            "text/plain": [
              "['banane', 'cerise', 'datte', 'pomme']"
            ]
          },
          "metadata": {},
          "execution_count": 49
        }
      ]
    }
  ],
  "metadata": {
    "colab": {
      "provenance": [],
      "include_colab_link": true
    },
    "language_info": {
      "name": "python"
    },
    "kernelspec": {
      "name": "python3",
      "display_name": "Python 3"
    }
  },
  "nbformat": 4,
  "nbformat_minor": 5
}