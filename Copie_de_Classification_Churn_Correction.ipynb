{
  "nbformat": 4,
  "nbformat_minor": 0,
  "metadata": {
    "colab": {
      "provenance": [],
      "include_colab_link": true
    },
    "kernelspec": {
      "name": "python3",
      "display_name": "Python 3"
    },
    "language_info": {
      "name": "python"
    }
  },
  "cells": [
    {
      "cell_type": "markdown",
      "metadata": {
        "id": "view-in-github",
        "colab_type": "text"
      },
      "source": [
        "<a href=\"https://colab.research.google.com/github/RMoulla/pyk/blob/main/Copie_de_Classification_Churn_Correction.ipynb\" target=\"_parent\"><img src=\"https://colab.research.google.com/assets/colab-badge.svg\" alt=\"Open In Colab\"/></a>"
      ]
    },
    {
      "cell_type": "markdown",
      "source": [
        "# Explication et prédiction du churn avec le machine learning\n",
        "\n",
        "Ce TP vise à explorer et comparer différentes techniques de classification en machine learning pour expliquer et prédire le churn des clients. Le churn, ou l'attrition, est un indicateur clé pour de nombreuses entreprises ; il reflète le pourcentage de clients qui cessent d'utiliser un service sur une période donnée. Comprendre et prédire efficacement le churn peut aider les entreprises à mettre en œuvre des stratégies de rétention ciblées et à améliorer la satisfaction client.\n",
        "\n",
        "## Le Dataset\n",
        "\n",
        "Le dataset utilisé dans ce tutoriel contient des données sur les clients d'une entreprise, avec plusieurs caractéristiques qui pourraient influencer leur décision de rester ou de partir.\n",
        "\n",
        "Ci-dessous un aperçu des variables incluses dans le dataset :\n",
        "\n",
        "**Names** : Nom du client.\n",
        "\n",
        "**Age** : Âge du client.\n",
        "\n",
        "**Total_Purchase** : Montant total des achats effectués par le client.\n",
        "\n",
        "**Account_Manager** : Indique si un gestionnaire de compte est assigné au client (1) ou non (0).\n",
        "\n",
        "**Years** : Nombre d'années pendant lesquelles le client est avec l'entreprise.\n",
        "\n",
        "**Num_Sites** : Nombre de sites utilisés par le client.\n",
        "\n",
        "Onboard_date: Date à laquelle le client a été acquis.\n",
        "\n",
        "**Location** : Emplacement du client.\n",
        "\n",
        "**Company** : Nom de l'entreprise du client.\n",
        "\n",
        "**Churn** : Indique si le client a churné (1) ou non (0).\n",
        "\n",
        "## Objectifs Spécifiques du TP\n",
        "\n",
        "**Exploration de Données** : Comprendre la distribution des données, la corrélation entre les variables et le taux de churn.\n",
        "\n",
        "**Prétraitement des Données** : Nettoyer et préparer les données pour la modélisation, y compris le traitement des variables catégorielles et la division des données en ensembles d'entraînement et de test.\n",
        "\n",
        "**Modélisation** : Appliquer plusieurs modèles de classification, tels que la régression logistique, Random Forest et les SVM pour prédire le churn.\n",
        "\n",
        "**Évaluation des Modèles** : Comparer les performances des modèles en utilisant des métriques telles que la précision, le rappel, l'accuracy, et l'AUC-ROC.\n",
        "\n",
        "**Optimisation** : Effectuer une optimisation des hyperparamètres sur les modèles sélectionnés pour améliorer leurs performances.\n",
        "\n",
        "**Interprétation** : Analyser les résultats pour identifier les facteurs clés influençant le churn et discuter des implications pour les stratégies de rétention des clients."
      ],
      "metadata": {
        "id": "SOnUzhscj7Sw"
      }
    },
    {
      "cell_type": "code",
      "source": [],
      "metadata": {
        "id": "n6dyZPhemt56"
      },
      "execution_count": null,
      "outputs": []
    },
    {
      "cell_type": "code",
      "execution_count": null,
      "metadata": {
        "colab": {
          "base_uri": "https://localhost:8080/",
          "height": 204
        },
        "id": "cXFERNwBj06V",
        "outputId": "8547d190-2a27-4da9-edf3-caa6def6ce24"
      },
      "outputs": [
        {
          "output_type": "execute_result",
          "data": {
            "text/plain": [
              "              Names   Age  Total_Purchase  Account_Manager  Years  Num_Sites  \\\n",
              "0  Cameron Williams  42.0        11066.80                0   7.22        8.0   \n",
              "1     Kevin Mueller  41.0        11916.22                0   6.50       11.0   \n",
              "2       Eric Lozano  38.0        12884.75                0   6.67       12.0   \n",
              "3     Phillip White  42.0         8010.76                0   6.71       10.0   \n",
              "4    Cynthia Norton  37.0         9191.58                0   5.56        9.0   \n",
              "\n",
              "          Onboard_date                                           Location  \\\n",
              "0  2013-08-30 07:00:40      10265 Elizabeth Mission Barkerburgh, AK 89518   \n",
              "1  2013-08-13 00:38:46  6157 Frank Gardens Suite 019 Carloshaven, RI 1...   \n",
              "2  2016-06-29 06:20:07             1331 Keith Court Alyssahaven, DE 90114   \n",
              "3  2014-04-22 12:43:12       13120 Daniel Mount Angelabury, WY 30645-4695   \n",
              "4  2016-01-19 15:31:15                765 Tricia Row Karenshire, MH 71730   \n",
              "\n",
              "                       Company  Churn  \n",
              "0                   Harvey LLC      1  \n",
              "1                   Wilson PLC      1  \n",
              "2  Miller, Johnson and Wallace      1  \n",
              "3                    Smith Inc      1  \n",
              "4                   Love-Jones      1  "
            ],
            "text/html": [
              "\n",
              "  <div id=\"df-e33c1f8d-93d8-476c-b377-23787861e8e7\" class=\"colab-df-container\">\n",
              "    <div>\n",
              "<style scoped>\n",
              "    .dataframe tbody tr th:only-of-type {\n",
              "        vertical-align: middle;\n",
              "    }\n",
              "\n",
              "    .dataframe tbody tr th {\n",
              "        vertical-align: top;\n",
              "    }\n",
              "\n",
              "    .dataframe thead th {\n",
              "        text-align: right;\n",
              "    }\n",
              "</style>\n",
              "<table border=\"1\" class=\"dataframe\">\n",
              "  <thead>\n",
              "    <tr style=\"text-align: right;\">\n",
              "      <th></th>\n",
              "      <th>Names</th>\n",
              "      <th>Age</th>\n",
              "      <th>Total_Purchase</th>\n",
              "      <th>Account_Manager</th>\n",
              "      <th>Years</th>\n",
              "      <th>Num_Sites</th>\n",
              "      <th>Onboard_date</th>\n",
              "      <th>Location</th>\n",
              "      <th>Company</th>\n",
              "      <th>Churn</th>\n",
              "    </tr>\n",
              "  </thead>\n",
              "  <tbody>\n",
              "    <tr>\n",
              "      <th>0</th>\n",
              "      <td>Cameron Williams</td>\n",
              "      <td>42.0</td>\n",
              "      <td>11066.80</td>\n",
              "      <td>0</td>\n",
              "      <td>7.22</td>\n",
              "      <td>8.0</td>\n",
              "      <td>2013-08-30 07:00:40</td>\n",
              "      <td>10265 Elizabeth Mission Barkerburgh, AK 89518</td>\n",
              "      <td>Harvey LLC</td>\n",
              "      <td>1</td>\n",
              "    </tr>\n",
              "    <tr>\n",
              "      <th>1</th>\n",
              "      <td>Kevin Mueller</td>\n",
              "      <td>41.0</td>\n",
              "      <td>11916.22</td>\n",
              "      <td>0</td>\n",
              "      <td>6.50</td>\n",
              "      <td>11.0</td>\n",
              "      <td>2013-08-13 00:38:46</td>\n",
              "      <td>6157 Frank Gardens Suite 019 Carloshaven, RI 1...</td>\n",
              "      <td>Wilson PLC</td>\n",
              "      <td>1</td>\n",
              "    </tr>\n",
              "    <tr>\n",
              "      <th>2</th>\n",
              "      <td>Eric Lozano</td>\n",
              "      <td>38.0</td>\n",
              "      <td>12884.75</td>\n",
              "      <td>0</td>\n",
              "      <td>6.67</td>\n",
              "      <td>12.0</td>\n",
              "      <td>2016-06-29 06:20:07</td>\n",
              "      <td>1331 Keith Court Alyssahaven, DE 90114</td>\n",
              "      <td>Miller, Johnson and Wallace</td>\n",
              "      <td>1</td>\n",
              "    </tr>\n",
              "    <tr>\n",
              "      <th>3</th>\n",
              "      <td>Phillip White</td>\n",
              "      <td>42.0</td>\n",
              "      <td>8010.76</td>\n",
              "      <td>0</td>\n",
              "      <td>6.71</td>\n",
              "      <td>10.0</td>\n",
              "      <td>2014-04-22 12:43:12</td>\n",
              "      <td>13120 Daniel Mount Angelabury, WY 30645-4695</td>\n",
              "      <td>Smith Inc</td>\n",
              "      <td>1</td>\n",
              "    </tr>\n",
              "    <tr>\n",
              "      <th>4</th>\n",
              "      <td>Cynthia Norton</td>\n",
              "      <td>37.0</td>\n",
              "      <td>9191.58</td>\n",
              "      <td>0</td>\n",
              "      <td>5.56</td>\n",
              "      <td>9.0</td>\n",
              "      <td>2016-01-19 15:31:15</td>\n",
              "      <td>765 Tricia Row Karenshire, MH 71730</td>\n",
              "      <td>Love-Jones</td>\n",
              "      <td>1</td>\n",
              "    </tr>\n",
              "  </tbody>\n",
              "</table>\n",
              "</div>\n",
              "    <div class=\"colab-df-buttons\">\n",
              "\n",
              "  <div class=\"colab-df-container\">\n",
              "    <button class=\"colab-df-convert\" onclick=\"convertToInteractive('df-e33c1f8d-93d8-476c-b377-23787861e8e7')\"\n",
              "            title=\"Convert this dataframe to an interactive table.\"\n",
              "            style=\"display:none;\">\n",
              "\n",
              "  <svg xmlns=\"http://www.w3.org/2000/svg\" height=\"24px\" viewBox=\"0 -960 960 960\">\n",
              "    <path d=\"M120-120v-720h720v720H120Zm60-500h600v-160H180v160Zm220 220h160v-160H400v160Zm0 220h160v-160H400v160ZM180-400h160v-160H180v160Zm440 0h160v-160H620v160ZM180-180h160v-160H180v160Zm440 0h160v-160H620v160Z\"/>\n",
              "  </svg>\n",
              "    </button>\n",
              "\n",
              "  <style>\n",
              "    .colab-df-container {\n",
              "      display:flex;\n",
              "      gap: 12px;\n",
              "    }\n",
              "\n",
              "    .colab-df-convert {\n",
              "      background-color: #E8F0FE;\n",
              "      border: none;\n",
              "      border-radius: 50%;\n",
              "      cursor: pointer;\n",
              "      display: none;\n",
              "      fill: #1967D2;\n",
              "      height: 32px;\n",
              "      padding: 0 0 0 0;\n",
              "      width: 32px;\n",
              "    }\n",
              "\n",
              "    .colab-df-convert:hover {\n",
              "      background-color: #E2EBFA;\n",
              "      box-shadow: 0px 1px 2px rgba(60, 64, 67, 0.3), 0px 1px 3px 1px rgba(60, 64, 67, 0.15);\n",
              "      fill: #174EA6;\n",
              "    }\n",
              "\n",
              "    .colab-df-buttons div {\n",
              "      margin-bottom: 4px;\n",
              "    }\n",
              "\n",
              "    [theme=dark] .colab-df-convert {\n",
              "      background-color: #3B4455;\n",
              "      fill: #D2E3FC;\n",
              "    }\n",
              "\n",
              "    [theme=dark] .colab-df-convert:hover {\n",
              "      background-color: #434B5C;\n",
              "      box-shadow: 0px 1px 3px 1px rgba(0, 0, 0, 0.15);\n",
              "      filter: drop-shadow(0px 1px 2px rgba(0, 0, 0, 0.3));\n",
              "      fill: #FFFFFF;\n",
              "    }\n",
              "  </style>\n",
              "\n",
              "    <script>\n",
              "      const buttonEl =\n",
              "        document.querySelector('#df-e33c1f8d-93d8-476c-b377-23787861e8e7 button.colab-df-convert');\n",
              "      buttonEl.style.display =\n",
              "        google.colab.kernel.accessAllowed ? 'block' : 'none';\n",
              "\n",
              "      async function convertToInteractive(key) {\n",
              "        const element = document.querySelector('#df-e33c1f8d-93d8-476c-b377-23787861e8e7');\n",
              "        const dataTable =\n",
              "          await google.colab.kernel.invokeFunction('convertToInteractive',\n",
              "                                                    [key], {});\n",
              "        if (!dataTable) return;\n",
              "\n",
              "        const docLinkHtml = 'Like what you see? Visit the ' +\n",
              "          '<a target=\"_blank\" href=https://colab.research.google.com/notebooks/data_table.ipynb>data table notebook</a>'\n",
              "          + ' to learn more about interactive tables.';\n",
              "        element.innerHTML = '';\n",
              "        dataTable['output_type'] = 'display_data';\n",
              "        await google.colab.output.renderOutput(dataTable, element);\n",
              "        const docLink = document.createElement('div');\n",
              "        docLink.innerHTML = docLinkHtml;\n",
              "        element.appendChild(docLink);\n",
              "      }\n",
              "    </script>\n",
              "  </div>\n",
              "\n",
              "\n",
              "    <div id=\"df-dc4a7a7b-a06e-48dc-b1c1-9be4ab1968f3\">\n",
              "      <button class=\"colab-df-quickchart\" onclick=\"quickchart('df-dc4a7a7b-a06e-48dc-b1c1-9be4ab1968f3')\"\n",
              "                title=\"Suggest charts\"\n",
              "                style=\"display:none;\">\n",
              "\n",
              "<svg xmlns=\"http://www.w3.org/2000/svg\" height=\"24px\"viewBox=\"0 0 24 24\"\n",
              "     width=\"24px\">\n",
              "    <g>\n",
              "        <path d=\"M19 3H5c-1.1 0-2 .9-2 2v14c0 1.1.9 2 2 2h14c1.1 0 2-.9 2-2V5c0-1.1-.9-2-2-2zM9 17H7v-7h2v7zm4 0h-2V7h2v10zm4 0h-2v-4h2v4z\"/>\n",
              "    </g>\n",
              "</svg>\n",
              "      </button>\n",
              "\n",
              "<style>\n",
              "  .colab-df-quickchart {\n",
              "      --bg-color: #E8F0FE;\n",
              "      --fill-color: #1967D2;\n",
              "      --hover-bg-color: #E2EBFA;\n",
              "      --hover-fill-color: #174EA6;\n",
              "      --disabled-fill-color: #AAA;\n",
              "      --disabled-bg-color: #DDD;\n",
              "  }\n",
              "\n",
              "  [theme=dark] .colab-df-quickchart {\n",
              "      --bg-color: #3B4455;\n",
              "      --fill-color: #D2E3FC;\n",
              "      --hover-bg-color: #434B5C;\n",
              "      --hover-fill-color: #FFFFFF;\n",
              "      --disabled-bg-color: #3B4455;\n",
              "      --disabled-fill-color: #666;\n",
              "  }\n",
              "\n",
              "  .colab-df-quickchart {\n",
              "    background-color: var(--bg-color);\n",
              "    border: none;\n",
              "    border-radius: 50%;\n",
              "    cursor: pointer;\n",
              "    display: none;\n",
              "    fill: var(--fill-color);\n",
              "    height: 32px;\n",
              "    padding: 0;\n",
              "    width: 32px;\n",
              "  }\n",
              "\n",
              "  .colab-df-quickchart:hover {\n",
              "    background-color: var(--hover-bg-color);\n",
              "    box-shadow: 0 1px 2px rgba(60, 64, 67, 0.3), 0 1px 3px 1px rgba(60, 64, 67, 0.15);\n",
              "    fill: var(--button-hover-fill-color);\n",
              "  }\n",
              "\n",
              "  .colab-df-quickchart-complete:disabled,\n",
              "  .colab-df-quickchart-complete:disabled:hover {\n",
              "    background-color: var(--disabled-bg-color);\n",
              "    fill: var(--disabled-fill-color);\n",
              "    box-shadow: none;\n",
              "  }\n",
              "\n",
              "  .colab-df-spinner {\n",
              "    border: 2px solid var(--fill-color);\n",
              "    border-color: transparent;\n",
              "    border-bottom-color: var(--fill-color);\n",
              "    animation:\n",
              "      spin 1s steps(1) infinite;\n",
              "  }\n",
              "\n",
              "  @keyframes spin {\n",
              "    0% {\n",
              "      border-color: transparent;\n",
              "      border-bottom-color: var(--fill-color);\n",
              "      border-left-color: var(--fill-color);\n",
              "    }\n",
              "    20% {\n",
              "      border-color: transparent;\n",
              "      border-left-color: var(--fill-color);\n",
              "      border-top-color: var(--fill-color);\n",
              "    }\n",
              "    30% {\n",
              "      border-color: transparent;\n",
              "      border-left-color: var(--fill-color);\n",
              "      border-top-color: var(--fill-color);\n",
              "      border-right-color: var(--fill-color);\n",
              "    }\n",
              "    40% {\n",
              "      border-color: transparent;\n",
              "      border-right-color: var(--fill-color);\n",
              "      border-top-color: var(--fill-color);\n",
              "    }\n",
              "    60% {\n",
              "      border-color: transparent;\n",
              "      border-right-color: var(--fill-color);\n",
              "    }\n",
              "    80% {\n",
              "      border-color: transparent;\n",
              "      border-right-color: var(--fill-color);\n",
              "      border-bottom-color: var(--fill-color);\n",
              "    }\n",
              "    90% {\n",
              "      border-color: transparent;\n",
              "      border-bottom-color: var(--fill-color);\n",
              "    }\n",
              "  }\n",
              "</style>\n",
              "\n",
              "      <script>\n",
              "        async function quickchart(key) {\n",
              "          const quickchartButtonEl =\n",
              "            document.querySelector('#' + key + ' button');\n",
              "          quickchartButtonEl.disabled = true;  // To prevent multiple clicks.\n",
              "          quickchartButtonEl.classList.add('colab-df-spinner');\n",
              "          try {\n",
              "            const charts = await google.colab.kernel.invokeFunction(\n",
              "                'suggestCharts', [key], {});\n",
              "          } catch (error) {\n",
              "            console.error('Error during call to suggestCharts:', error);\n",
              "          }\n",
              "          quickchartButtonEl.classList.remove('colab-df-spinner');\n",
              "          quickchartButtonEl.classList.add('colab-df-quickchart-complete');\n",
              "        }\n",
              "        (() => {\n",
              "          let quickchartButtonEl =\n",
              "            document.querySelector('#df-dc4a7a7b-a06e-48dc-b1c1-9be4ab1968f3 button');\n",
              "          quickchartButtonEl.style.display =\n",
              "            google.colab.kernel.accessAllowed ? 'block' : 'none';\n",
              "        })();\n",
              "      </script>\n",
              "    </div>\n",
              "\n",
              "    </div>\n",
              "  </div>\n"
            ],
            "application/vnd.google.colaboratory.intrinsic+json": {
              "type": "dataframe",
              "variable_name": "dataset",
              "summary": "{\n  \"name\": \"dataset\",\n  \"rows\": 900,\n  \"fields\": [\n    {\n      \"column\": \"Names\",\n      \"properties\": {\n        \"dtype\": \"string\",\n        \"num_unique_values\": 899,\n        \"samples\": [\n          \"Nicole Jacobson\",\n          \"Kenneth Wilkerson\",\n          \"Robin Sanchez\"\n        ],\n        \"semantic_type\": \"\",\n        \"description\": \"\"\n      }\n    },\n    {\n      \"column\": \"Age\",\n      \"properties\": {\n        \"dtype\": \"number\",\n        \"std\": 6.127560416916246,\n        \"min\": 22.0,\n        \"max\": 65.0,\n        \"num_unique_values\": 36,\n        \"samples\": [\n          22.0,\n          56.0,\n          34.0\n        ],\n        \"semantic_type\": \"\",\n        \"description\": \"\"\n      }\n    },\n    {\n      \"column\": \"Total_Purchase\",\n      \"properties\": {\n        \"dtype\": \"number\",\n        \"std\": 2408.6445318580945,\n        \"min\": 100.0,\n        \"max\": 18026.01,\n        \"num_unique_values\": 900,\n        \"samples\": [\n          13365.66,\n          11695.04,\n          9347.89\n        ],\n        \"semantic_type\": \"\",\n        \"description\": \"\"\n      }\n    },\n    {\n      \"column\": \"Account_Manager\",\n      \"properties\": {\n        \"dtype\": \"number\",\n        \"std\": 0,\n        \"min\": 0,\n        \"max\": 1,\n        \"num_unique_values\": 2,\n        \"samples\": [\n          1,\n          0\n        ],\n        \"semantic_type\": \"\",\n        \"description\": \"\"\n      }\n    },\n    {\n      \"column\": \"Years\",\n      \"properties\": {\n        \"dtype\": \"number\",\n        \"std\": 1.2744490131946138,\n        \"min\": 1.0,\n        \"max\": 9.15,\n        \"num_unique_values\": 418,\n        \"samples\": [\n          4.63,\n          4.53\n        ],\n        \"semantic_type\": \"\",\n        \"description\": \"\"\n      }\n    },\n    {\n      \"column\": \"Num_Sites\",\n      \"properties\": {\n        \"dtype\": \"number\",\n        \"std\": 1.7648355920351064,\n        \"min\": 3.0,\n        \"max\": 14.0,\n        \"num_unique_values\": 12,\n        \"samples\": [\n          4.0,\n          5.0\n        ],\n        \"semantic_type\": \"\",\n        \"description\": \"\"\n      }\n    },\n    {\n      \"column\": \"Onboard_date\",\n      \"properties\": {\n        \"dtype\": \"object\",\n        \"num_unique_values\": 900,\n        \"samples\": [\n          \"2008-07-26 03:00:31\",\n          \"2007-10-12 01:48:51\"\n        ],\n        \"semantic_type\": \"\",\n        \"description\": \"\"\n      }\n    },\n    {\n      \"column\": \"Location\",\n      \"properties\": {\n        \"dtype\": \"string\",\n        \"num_unique_values\": 900,\n        \"samples\": [\n          \"455 Garcia Via Suite 177 Lake Jefferyside, MN 81187\",\n          \"126 Mooney Corners Port Anthonyborough, SD 31819\"\n        ],\n        \"semantic_type\": \"\",\n        \"description\": \"\"\n      }\n    },\n    {\n      \"column\": \"Company\",\n      \"properties\": {\n        \"dtype\": \"string\",\n        \"num_unique_values\": 873,\n        \"samples\": [\n          \"Kelly-Greene\",\n          \"Howell-Valdez\"\n        ],\n        \"semantic_type\": \"\",\n        \"description\": \"\"\n      }\n    },\n    {\n      \"column\": \"Churn\",\n      \"properties\": {\n        \"dtype\": \"number\",\n        \"std\": 0,\n        \"min\": 0,\n        \"max\": 1,\n        \"num_unique_values\": 2,\n        \"samples\": [\n          0,\n          1\n        ],\n        \"semantic_type\": \"\",\n        \"description\": \"\"\n      }\n    }\n  ]\n}"
            }
          },
          "metadata": {},
          "execution_count": 14
        }
      ],
      "source": [
        "import pandas as pd\n",
        "\n",
        "dataset = pd.read_csv('customer_churn.csv')\n",
        "dataset.head()"
      ]
    },
    {
      "cell_type": "markdown",
      "source": [
        "## Analyse exploratoire des données\n",
        "\n",
        "Nous allons commencer par une analyse exploratoire des données. Cette phase vise à comprendre les données, leur distribution et les relations entre les variables, notamment entre les variables dépendantes (features) et la variable d'intérêt."
      ],
      "metadata": {
        "id": "V8DYUFYIn3ag"
      }
    },
    {
      "cell_type": "code",
      "source": [
        "# Quelques statistiques descriptives\n",
        "print(dataset.describe())"
      ],
      "metadata": {
        "colab": {
          "base_uri": "https://localhost:8080/"
        },
        "id": "WRM13JyHoss6",
        "outputId": "c754e78d-b76a-4dd4-e7da-ba3c5b7267c7"
      },
      "execution_count": null,
      "outputs": [
        {
          "output_type": "stream",
          "name": "stdout",
          "text": [
            "              Age  Total_Purchase  Account_Manager       Years   Num_Sites  \\\n",
            "count  900.000000      900.000000       900.000000  900.000000  900.000000   \n",
            "mean    41.816667    10062.824033         0.481111    5.273156    8.587778   \n",
            "std      6.127560     2408.644532         0.499921    1.274449    1.764836   \n",
            "min     22.000000      100.000000         0.000000    1.000000    3.000000   \n",
            "25%     38.000000     8497.122500         0.000000    4.450000    7.000000   \n",
            "50%     42.000000    10045.870000         0.000000    5.215000    8.000000   \n",
            "75%     46.000000    11760.105000         1.000000    6.110000   10.000000   \n",
            "max     65.000000    18026.010000         1.000000    9.150000   14.000000   \n",
            "\n",
            "            Churn  \n",
            "count  900.000000  \n",
            "mean     0.166667  \n",
            "std      0.372885  \n",
            "min      0.000000  \n",
            "25%      0.000000  \n",
            "50%      0.000000  \n",
            "75%      0.000000  \n",
            "max      1.000000  \n"
          ]
        }
      ]
    },
    {
      "cell_type": "code",
      "source": [
        "import seaborn as sns\n",
        "import matplotlib.pyplot as plt\n",
        "\n",
        "# Distribution de la variable Churn\n",
        "sns.countplot(x='Churn', data=dataset)\n",
        "plt.title('Distribution du Churn')\n",
        "plt.show()"
      ],
      "metadata": {
        "colab": {
          "base_uri": "https://localhost:8080/",
          "height": 472
        },
        "id": "intSLL5Co9QP",
        "outputId": "0a02ff9f-fffa-4b66-a351-4b8013db6450"
      },
      "execution_count": null,
      "outputs": [
        {
          "output_type": "display_data",
          "data": {
            "text/plain": [
              "<Figure size 640x480 with 1 Axes>"
            ],
            "image/png": "[encoded data removed]"
          },
          "metadata": {}
        }
      ]
    },
    {
      "cell_type": "code",
      "source": [
        "\n",
        "# Age vs Churn\n",
        "plt.figure(figsize=(8, 6))\n",
        "sns.boxplot(x='Churn', y='Age', data=dataset)\n",
        "plt.title('Age vs Churn')\n",
        "plt.show()"
      ],
      "metadata": {
        "id": "xPvH7lRFpW5y",
        "colab": {
          "base_uri": "https://localhost:8080/",
          "height": 564
        },
        "outputId": "063c501b-3fdb-40b8-bc35-ca06711d12ab"
      },
      "execution_count": null,
      "outputs": [
        {
          "output_type": "display_data",
          "data": {
            "text/plain": [
              "<Figure size 800x600 with 1 Axes>"
            ],
            "image/png": "[encoded data removed]"
          },
          "metadata": {}
        }
      ]
    },
    {
      "cell_type": "code",
      "source": [
        "\n",
        "# Total Purchase vs Churn\n",
        "plt.figure(figsize=(8, 6))\n",
        "sns.boxplot(x='Churn', y='Total_Purchase', data=dataset)\n",
        "plt.title('Total Purchase vs Churn')\n",
        "plt.show()"
      ],
      "metadata": {
        "colab": {
          "base_uri": "https://localhost:8080/",
          "height": 564
        },
        "id": "0HHV6ukHMqhv",
        "outputId": "fb7dcd88-356e-4e53-9639-8ca37c3e3426"
      },
      "execution_count": null,
      "outputs": [
        {
          "output_type": "display_data",
          "data": {
            "text/plain": [
              "<Figure size 800x600 with 1 Axes>"
            ],
            "image/png": "[encoded data removed]"
          },
          "metadata": {}
        }
      ]
    },
    {
      "cell_type": "code",
      "source": [
        "\n",
        "# Years vs Churn\n",
        "plt.figure(figsize=(8, 6))\n",
        "sns.boxplot(x='Churn', y='Years', data=dataset)\n",
        "plt.title('Years vs Churn')\n",
        "plt.show()"
      ],
      "metadata": {
        "colab": {
          "base_uri": "https://localhost:8080/",
          "height": 564
        },
        "id": "-SxsUyPFMq2u",
        "outputId": "c19cf29f-e112-4613-e7fd-218cacb287f0"
      },
      "execution_count": null,
      "outputs": [
        {
          "output_type": "display_data",
          "data": {
            "text/plain": [
              "<Figure size 800x600 with 1 Axes>"
            ],
            "image/png": "[encoded data removed]"
          },
          "metadata": {}
        }
      ]
    },
    {
      "cell_type": "code",
      "source": [
        "plt.show()\n",
        "\n",
        "# Num Sites vs Churn\n",
        "plt.figure(figsize=(8, 6))\n",
        "sns.boxplot(x='Churn', y='Num_Sites', data=dataset)\n",
        "plt.title('Num Sites vs Churn')\n",
        "plt.show()"
      ],
      "metadata": {
        "colab": {
          "base_uri": "https://localhost:8080/",
          "height": 564
        },
        "id": "EpX0UIgIMrBy",
        "outputId": "4e660feb-0c1f-4c82-dc5d-79e787165de6"
      },
      "execution_count": null,
      "outputs": [
        {
          "output_type": "display_data",
          "data": {
            "text/plain": [
              "<Figure size 800x600 with 1 Axes>"
            ],
            "image/png": "[encoded data removed]"
          },
          "metadata": {}
        }
      ]
    },
    {
      "cell_type": "code",
      "source": [
        "# Account Manager vs Churn\n",
        "plt.figure(figsize=(8, 6))\n",
        "sns.countplot(x='Account_Manager', hue='Churn', data=dataset)\n",
        "plt.title('Account Manager vs Churn')\n",
        "plt.show()"
      ],
      "metadata": {
        "colab": {
          "base_uri": "https://localhost:8080/",
          "height": 564
        },
        "id": "T0_9zyIbMrSZ",
        "outputId": "9c3aad0c-1848-4d5a-90f8-c1fdd0eff3f9"
      },
      "execution_count": null,
      "outputs": [
        {
          "output_type": "display_data",
          "data": {
            "text/plain": [
              "<Figure size 800x600 with 1 Axes>"
            ],
            "image/png": "[encoded data removed]"
          },
          "metadata": {}
        }
      ]
    },
    {
      "cell_type": "markdown",
      "source": [
        "## Modélisation\n",
        "\n",
        "Dans cette phase, nous allons entraîner plusieurs modèles de classification, dont la régression logistique, Random Forest, et potentiellement et les SVM. Notre objectif est à la fois la compréhension des déterminants de churn et la prédiction de celui-ci.\n",
        "\n",
        "Nous allons d'abord commencer par partionner notre dataset en jeu de données d'entraînement et jeu de données de test."
      ],
      "metadata": {
        "id": "I8YmtWz9pomv"
      }
    },
    {
      "cell_type": "code",
      "source": [
        "from sklearn.model_selection import train_test_split\n",
        "# Partionner le dataset en train et test\n",
        "\n",
        "features = ['Age', 'Total_Purchase', 'Account_Manager', 'Years', 'Num_Sites']\n",
        "X = dataset[features]\n",
        "y = dataset['Churn']\n",
        "\n",
        "X_train, X_test, y_train, y_test = train_test_split(X, y, test_size=0.2, random_state=42)"
      ],
      "metadata": {
        "id": "ZYznlEY9rjwr"
      },
      "execution_count": null,
      "outputs": []
    },
    {
      "cell_type": "markdown",
      "source": [
        "### Régression logistique"
      ],
      "metadata": {
        "id": "vN0T5otzq208"
      }
    },
    {
      "cell_type": "code",
      "source": [
        "import statsmodels.api as sm\n",
        "\n",
        "X_train_const = sm.add_constant(X_train)\n",
        "X_test_const = sm.add_constant(X_test)\n",
        "\n",
        "logit_model = sm.Logit(y_train, X_train_const)\n",
        "result = logit_model.fit()\n",
        "\n",
        "result.summary()"
      ],
      "metadata": {
        "id": "dcFegvQYq6ss",
        "colab": {
          "base_uri": "https://localhost:8080/",
          "height": 383
        },
        "outputId": "e6cfd147-f0e7-4c8d-d87c-b3bcd0231600"
      },
      "execution_count": null,
      "outputs": [
        {
          "output_type": "stream",
          "name": "stdout",
          "text": [
            "Optimization terminated successfully.\n",
            "         Current function value: 0.257054\n",
            "         Iterations 8\n"
          ]
        },
        {
          "output_type": "execute_result",
          "data": {
            "text/plain": [
              "<class 'statsmodels.iolib.summary.Summary'>\n",
              "\"\"\"\n",
              "                           Logit Regression Results                           \n",
              "==============================================================================\n",
              "Dep. Variable:                  Churn   No. Observations:                  720\n",
              "Model:                          Logit   Df Residuals:                      714\n",
              "Method:                           MLE   Df Model:                            5\n",
              "Date:                Tue, 01 Jul 2025   Pseudo R-squ.:                  0.4237\n",
              "Time:                        13:51:52   Log-Likelihood:                -185.08\n",
              "converged:                       True   LL-Null:                       -321.17\n",
              "Covariance Type:            nonrobust   LLR p-value:                 9.559e-57\n",
              "===================================================================================\n",
              "                      coef    std err          z      P>|z|      [0.025      0.975]\n",
              "-----------------------------------------------------------------------------------\n",
              "const             -19.1136      1.931     -9.896      0.000     -22.899     -15.328\n",
              "Age                 0.0491      0.023      2.114      0.034       0.004       0.095\n",
              "Total_Purchase   3.566e-05   5.51e-05      0.647      0.518   -7.24e-05       0.000\n",
              "Account_Manager     0.5457      0.269      2.030      0.042       0.019       1.072\n",
              "Years               0.5278      0.107      4.939      0.000       0.318       0.737\n",
              "Num_Sites           1.2499      0.115     10.839      0.000       1.024       1.476\n",
              "===================================================================================\n",
              "\"\"\""
            ],
            "text/html": [
              "<table class=\"simpletable\">\n",
              "<caption>Logit Regression Results</caption>\n",
              "<tr>\n",
              "  <th>Dep. Variable:</th>         <td>Churn</td>      <th>  No. Observations:  </th>  <td>   720</td>  \n",
              "</tr>\n",
              "<tr>\n",
              "  <th>Model:</th>                 <td>Logit</td>      <th>  Df Residuals:      </th>  <td>   714</td>  \n",
              "</tr>\n",
              "<tr>\n",
              "  <th>Method:</th>                 <td>MLE</td>       <th>  Df Model:          </th>  <td>     5</td>  \n",
              "</tr>\n",
              "<tr>\n",
              "  <th>Date:</th>            <td>Tue, 01 Jul 2025</td> <th>  Pseudo R-squ.:     </th>  <td>0.4237</td>  \n",
              "</tr>\n",
              "<tr>\n",
              "  <th>Time:</th>                <td>13:51:52</td>     <th>  Log-Likelihood:    </th> <td> -185.08</td> \n",
              "</tr>\n",
              "<tr>\n",
              "  <th>converged:</th>             <td>True</td>       <th>  LL-Null:           </th> <td> -321.17</td> \n",
              "</tr>\n",
              "<tr>\n",
              "  <th>Covariance Type:</th>     <td>nonrobust</td>    <th>  LLR p-value:       </th> <td>9.559e-57</td>\n",
              "</tr>\n",
              "</table>\n",
              "<table class=\"simpletable\">\n",
              "<tr>\n",
              "         <td></td>            <th>coef</th>     <th>std err</th>      <th>z</th>      <th>P>|z|</th>  <th>[0.025</th>    <th>0.975]</th>  \n",
              "</tr>\n",
              "<tr>\n",
              "  <th>const</th>           <td>  -19.1136</td> <td>    1.931</td> <td>   -9.896</td> <td> 0.000</td> <td>  -22.899</td> <td>  -15.328</td>\n",
              "</tr>\n",
              "<tr>\n",
              "  <th>Age</th>             <td>    0.0491</td> <td>    0.023</td> <td>    2.114</td> <td> 0.034</td> <td>    0.004</td> <td>    0.095</td>\n",
              "</tr>\n",
              "<tr>\n",
              "  <th>Total_Purchase</th>  <td> 3.566e-05</td> <td> 5.51e-05</td> <td>    0.647</td> <td> 0.518</td> <td>-7.24e-05</td> <td>    0.000</td>\n",
              "</tr>\n",
              "<tr>\n",
              "  <th>Account_Manager</th> <td>    0.5457</td> <td>    0.269</td> <td>    2.030</td> <td> 0.042</td> <td>    0.019</td> <td>    1.072</td>\n",
              "</tr>\n",
              "<tr>\n",
              "  <th>Years</th>           <td>    0.5278</td> <td>    0.107</td> <td>    4.939</td> <td> 0.000</td> <td>    0.318</td> <td>    0.737</td>\n",
              "</tr>\n",
              "<tr>\n",
              "  <th>Num_Sites</th>       <td>    1.2499</td> <td>    0.115</td> <td>   10.839</td> <td> 0.000</td> <td>    1.024</td> <td>    1.476</td>\n",
              "</tr>\n",
              "</table>"
            ],
            "text/latex": "\\begin{center}\n\\begin{tabular}{lclc}\n\\toprule\n\\textbf{Dep. Variable:}   &      Churn       & \\textbf{  No. Observations:  } &      720    \\\\\n\\textbf{Model:}           &      Logit       & \\textbf{  Df Residuals:      } &      714    \\\\\n\\textbf{Method:}          &       MLE        & \\textbf{  Df Model:          } &        5    \\\\\n\\textbf{Date:}            & Tue, 01 Jul 2025 & \\textbf{  Pseudo R-squ.:     } &   0.4237    \\\\\n\\textbf{Time:}            &     13:51:52     & \\textbf{  Log-Likelihood:    } &   -185.08   \\\\\n\\textbf{converged:}       &       True       & \\textbf{  LL-Null:           } &   -321.17   \\\\\n\\textbf{Covariance Type:} &    nonrobust     & \\textbf{  LLR p-value:       } & 9.559e-57   \\\\\n\\bottomrule\n\\end{tabular}\n\\begin{tabular}{lcccccc}\n                          & \\textbf{coef} & \\textbf{std err} & \\textbf{z} & \\textbf{P$> |$z$|$} & \\textbf{[0.025} & \\textbf{0.975]}  \\\\\n\\midrule\n\\textbf{const}            &     -19.1136  &        1.931     &    -9.896  &         0.000        &      -22.899    &      -15.328     \\\\\n\\textbf{Age}              &       0.0491  &        0.023     &     2.114  &         0.034        &        0.004    &        0.095     \\\\\n\\textbf{Total\\_Purchase}  &    3.566e-05  &     5.51e-05     &     0.647  &         0.518        &    -7.24e-05    &        0.000     \\\\\n\\textbf{Account\\_Manager} &       0.5457  &        0.269     &     2.030  &         0.042        &        0.019    &        1.072     \\\\\n\\textbf{Years}            &       0.5278  &        0.107     &     4.939  &         0.000        &        0.318    &        0.737     \\\\\n\\textbf{Num\\_Sites}       &       1.2499  &        0.115     &    10.839  &         0.000        &        1.024    &        1.476     \\\\\n\\bottomrule\n\\end{tabular}\n%\\caption{Logit Regression Results}\n\\end{center}"
          },
          "metadata": {},
          "execution_count": 23
        }
      ]
    },
    {
      "cell_type": "code",
      "source": [
        "from sklearn.metrics import accuracy_score, precision_score, recall_score, f1_score\n",
        "\n",
        "y_test_pred_prob = result.predict(X_test_const)\n",
        "\n",
        "y_test_pred = (y_test_pred_prob >= 0.25).astype(int)\n",
        "\n",
        "# Calculate performance metrics using statsmodels predictions\n",
        "accuracy = accuracy_score(y_test, y_test_pred)\n",
        "precision = precision_score(y_test, y_test_pred)\n",
        "recall = recall_score(y_test, y_test_pred)\n",
        "f1 = f1_score(y_test, y_test_pred)\n",
        "\n",
        "performance_metrics = {\n",
        "    'Accuracy': accuracy,\n",
        "    'Precision': precision,\n",
        "    'Recall': recall,\n",
        "    'F1 Score': f1\n",
        "}\n",
        "\n",
        "performance_metrics"
      ],
      "metadata": {
        "colab": {
          "base_uri": "https://localhost:8080/"
        },
        "id": "eorgqEUDQ9Yz",
        "outputId": "47d02e05-89cd-40cc-adfb-01e28648cba8"
      },
      "execution_count": null,
      "outputs": [
        {
          "output_type": "execute_result",
          "data": {
            "text/plain": [
              "{'Accuracy': 0.9,\n",
              " 'Precision': 0.7058823529411765,\n",
              " 'Recall': 0.75,\n",
              " 'F1 Score': 0.7272727272727273}"
            ]
          },
          "metadata": {},
          "execution_count": 27
        }
      ]
    }
  ]
}